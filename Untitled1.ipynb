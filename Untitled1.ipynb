{
  "nbformat": 4,
  "nbformat_minor": 0,
  "metadata": {
    "colab": {
      "provenance": [],
      "authorship_tag": "ABX9TyOwpNRnKNlZ7txuwyz+Lgae",
      "include_colab_link": true
    },
    "kernelspec": {
      "name": "python3",
      "display_name": "Python 3"
    },
    "language_info": {
      "name": "python"
    }
  },
  "cells": [
    {
      "cell_type": "markdown",
      "metadata": {
        "id": "view-in-github",
        "colab_type": "text"
      },
      "source": [
        "<a href=\"https://colab.research.google.com/github/Charmi-Panchal/HTMLproj1/blob/main/Untitled1.ipynb\" target=\"_parent\"><img src=\"https://colab.research.google.com/assets/colab-badge.svg\" alt=\"Open In Colab\"/></a>"
      ]
    },
    {
      "cell_type": "code",
      "source": [
        "print(\"hello world\");"
      ],
      "metadata": {
        "colab": {
          "base_uri": "https://localhost:8080/"
        },
        "id": "ELBAuDYiI2RH",
        "outputId": "8ebc1637-328d-4256-87d3-ab35def2d32c"
      },
      "execution_count": 1,
      "outputs": [
        {
          "output_type": "stream",
          "name": "stdout",
          "text": [
            "hello world\n"
          ]
        }
      ]
    },
    {
      "cell_type": "code",
      "execution_count": 12,
      "metadata": {
        "colab": {
          "base_uri": "https://localhost:8080/"
        },
        "id": "1ZUc53GSInnQ",
        "outputId": "ee8b0abc-6f1b-451b-b515-cbefd5398975"
      },
      "outputs": [
        {
          "output_type": "stream",
          "name": "stdout",
          "text": [
            "hello Charmi\n",
            "<class 'str'>\n",
            "charmi panchal\n",
            "19\n",
            "My age is: 19\n",
            "240.3\n",
            "My height is: 240.3\n",
            "False\n",
            "Are you a human: False\n"
          ]
        }
      ],
      "source": [
        "#variables in python\n",
        "#STRINGS\n",
        "name = \"Charmi\"\n",
        "print(\"hello \"+ name)\n",
        "print(type(name))  #checks the datatype of variable\n",
        "first_name=\"charmi\"\n",
        "last_name=\"panchal\"\n",
        "full_name= first_name+\" \"+last_name\n",
        "print(full_name)\n",
        "\n",
        "#INT\n",
        "age=18\n",
        "age=age+1\n",
        "print(age)\n",
        "#print(\"My age is \"+age)  will give error covert it to int using type\n",
        "print(\"My age is: \"+str(age))\n",
        "\n",
        "#FLOAT\n",
        "height=240.3\n",
        "print(height)\n",
        "print(\"My height is: \"+str(height))\n",
        "\n",
        "#BOOLEAN\n",
        "human= False\n",
        "print(human)\n",
        "print(\"Are you a human: \"+str(human))"
      ]
    },
    {
      "cell_type": "code",
      "source": [
        "#multiple assignments of variable\n",
        "name,age,height = \"charmi\",18,456.9\n",
        "print(name)\n",
        "print(age)\n",
        "print(height)\n",
        "\n",
        "#having same value\n",
        "charmi=pakshal=1\n",
        "print(charmi)"
      ],
      "metadata": {
        "colab": {
          "base_uri": "https://localhost:8080/"
        },
        "id": "zUZOK_PTOIsJ",
        "outputId": "93cf70ea-b3d5-4954-89c8-9f06e47d4d10"
      },
      "execution_count": 14,
      "outputs": [
        {
          "output_type": "stream",
          "name": "stdout",
          "text": [
            "charmi\n",
            "18\n",
            "456.9\n",
            "1\n"
          ]
        }
      ]
    },
    {
      "cell_type": "code",
      "source": [
        "#string methods\n",
        "name=\"charmii\"\n",
        "print(len(name))\n",
        "print(name.find(\"a\"))\n",
        "print(name.capitalize())\n",
        "print(name.upper())\n",
        "print(name.lower())\n",
        "print(name.isdigit()) #checks if string is in digit or not\n",
        "print(name.isalpha())\n",
        "print(name.count(\"i\"))\n",
        "print(name.replace(\"i\",\"y\"))\n",
        "print(name*3)"
      ],
      "metadata": {
        "colab": {
          "base_uri": "https://localhost:8080/"
        },
        "id": "I6SO5vOePGBA",
        "outputId": "3a127bf8-584c-4cfb-8514-c1a6e056eb08"
      },
      "execution_count": 15,
      "outputs": [
        {
          "output_type": "stream",
          "name": "stdout",
          "text": [
            "7\n",
            "2\n",
            "Charmii\n",
            "CHARMII\n",
            "charmii\n",
            "False\n",
            "True\n",
            "2\n",
            "charmyy\n",
            "charmiicharmiicharmii\n"
          ]
        }
      ]
    },
    {
      "cell_type": "code",
      "source": [
        "#typecasting\n",
        "x=1\n",
        "y=2.0\n",
        "z=\"3\"\n",
        "x=float(x)\n",
        "y=int(y)\n",
        "z=int(z)\n",
        "print(x)\n",
        "print(y)\n",
        "print(z)\n",
        "print(z*3)\n",
        "print(\"X is :\"+str(x))\n",
        "print(\"Y is :\"+str(y))"
      ],
      "metadata": {
        "colab": {
          "base_uri": "https://localhost:8080/"
        },
        "id": "fKvnSZGQQNqD",
        "outputId": "0e0b039a-9043-40f6-caaf-c1b5b544e8c0"
      },
      "execution_count": 17,
      "outputs": [
        {
          "output_type": "stream",
          "name": "stdout",
          "text": [
            "1.0\n",
            "2\n",
            "3\n",
            "9\n",
            "X is :1.0\n",
            "Y is :2\n"
          ]
        }
      ]
    },
    {
      "cell_type": "code",
      "source": [
        "#USER INPUT\n",
        "name=input(\"What is your name?: \")\n",
        "age=int(input(\"How old are you?: \"))\n",
        "height=float(input(\"How tall are you?: \"))\n",
        "print(\"hello \"+name)\n",
        "print(\"You are \"+str(age)+\" years old\")\n",
        "print(\"You are \"+str(height)+\" cm tall\")"
      ],
      "metadata": {
        "colab": {
          "base_uri": "https://localhost:8080/"
        },
        "id": "oJsrzwPLRPFO",
        "outputId": "50d9fc30-1f44-411b-d437-291e042152e2"
      },
      "execution_count": 19,
      "outputs": [
        {
          "output_type": "stream",
          "name": "stdout",
          "text": [
            "What is your name?: charmi\n",
            "How old are you?: 19\n",
            "How tall are you?: 20.15\n",
            "hello charmi\n",
            "You are 19 years old\n",
            "You are 20.15cm tall\n"
          ]
        }
      ]
    },
    {
      "cell_type": "code",
      "source": [],
      "metadata": {
        "id": "D8MDk4qmTQ9G"
      },
      "execution_count": null,
      "outputs": []
    }
  ]
}